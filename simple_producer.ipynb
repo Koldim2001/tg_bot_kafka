{
 "cells": [
  {
   "cell_type": "markdown",
   "metadata": {},
   "source": [
    "# Код для отправки сообщений в Kafka \n",
    "(Можно использовать для тестирования бота)"
   ]
  },
  {
   "cell_type": "code",
   "execution_count": null,
   "metadata": {},
   "outputs": [],
   "source": [
    "!pip install kafka-python\n",
    "!pip install Faker"
   ]
  },
  {
   "cell_type": "markdown",
   "metadata": {},
   "source": [
    "Создание конфигурации для подключения:"
   ]
  },
  {
   "cell_type": "code",
   "execution_count": null,
   "metadata": {},
   "outputs": [],
   "source": [
    "from kafka import KafkaProducer\n",
    "from json import dumps\n",
    "\n",
    "topic = \"tg_bot_data\"\n",
    "bootstrap_servers = \"127.0.0.1:9092\"\n",
    "\n",
    "\n",
    "kafka_producer = KafkaProducer(\n",
    "    bootstrap_servers=bootstrap_servers,\n",
    "    value_serializer=lambda x: dumps(x).encode(\"utf-8\"),\n",
    ")"
   ]
  },
  {
   "cell_type": "markdown",
   "metadata": {},
   "source": [
    "---"
   ]
  },
  {
   "cell_type": "markdown",
   "metadata": {},
   "source": [
    "## Пример №1"
   ]
  },
  {
   "cell_type": "code",
   "execution_count": 35,
   "metadata": {},
   "outputs": [
    {
     "name": "stdout",
     "output_type": "stream",
     "text": [
      "{'value1': 7, 'value2': 47, 'value3': {'v1': 9, 'v2': 3.679}}\n"
     ]
    }
   ],
   "source": [
    "import random\n",
    "\n",
    "# Генерируем случайные фейковые данные\n",
    "data = {\n",
    "    \"value1\": random.randint(1, 15),\n",
    "    \"value2\": random.randint(30, 50),\n",
    "    \"value3\": {\"v1\":random.randint(-10, 10), \n",
    "               \"v2\": round(random.uniform(0, 5),3)}  \n",
    "}\n",
    "\n",
    "print(data)  # Выводим сгенерированные данные"
   ]
  },
  {
   "cell_type": "code",
   "execution_count": 46,
   "metadata": {},
   "outputs": [
    {
     "data": {
      "text/plain": [
       "RecordMetadata(topic='tg_bot', partition=0, topic_partition=TopicPartition(topic='tg_bot', partition=0), offset=31, timestamp=1716812870934, log_start_offset=0, checksum=None, serialized_key_size=-1, serialized_value_size=69, serialized_header_size=-1)"
      ]
     },
     "execution_count": 46,
     "metadata": {},
     "output_type": "execute_result"
    }
   ],
   "source": [
    "kafka_producer.send(topic, value=data).get(timeout=1)"
   ]
  },
  {
   "cell_type": "markdown",
   "metadata": {},
   "source": [
    "---"
   ]
  },
  {
   "cell_type": "markdown",
   "metadata": {},
   "source": [
    "## Пример №2"
   ]
  },
  {
   "cell_type": "code",
   "execution_count": 36,
   "metadata": {},
   "outputs": [
    {
     "name": "stdout",
     "output_type": "stream",
     "text": [
      "{'name': 'Alexandra', 'surname': 'Odonnell', 'age': 47}\n"
     ]
    }
   ],
   "source": [
    "from faker import Faker\n",
    "import random\n",
    "\n",
    "# Создаем объект Faker\n",
    "fake = Faker()\n",
    "\n",
    "# Генерируем случайные фейковые данные\n",
    "data = {\n",
    "    \"name\": fake.first_name(),\n",
    "    \"surname\": fake.last_name(),\n",
    "    \"age\": random.randint(18, 90)  # Генерация случайного возраста от 18 до 90 лет\n",
    "}\n",
    "\n",
    "print(data)  # Выводим сгенерированные данные\n"
   ]
  },
  {
   "cell_type": "code",
   "execution_count": 38,
   "metadata": {},
   "outputs": [
    {
     "data": {
      "text/plain": [
       "RecordMetadata(topic='tg_bot', partition=0, topic_partition=TopicPartition(topic='tg_bot', partition=0), offset=27, timestamp=1716806516222, log_start_offset=0, checksum=None, serialized_key_size=-1, serialized_value_size=55, serialized_header_size=-1)"
      ]
     },
     "execution_count": 38,
     "metadata": {},
     "output_type": "execute_result"
    }
   ],
   "source": [
    "kafka_producer.send(topic, value=data).get(timeout=1)"
   ]
  }
 ],
 "metadata": {
  "kernelspec": {
   "display_name": "WORK",
   "language": "python",
   "name": "python3"
  },
  "language_info": {
   "codemirror_mode": {
    "name": "ipython",
    "version": 3
   },
   "file_extension": ".py",
   "mimetype": "text/x-python",
   "name": "python",
   "nbconvert_exporter": "python",
   "pygments_lexer": "ipython3",
   "version": "3.11.5"
  }
 },
 "nbformat": 4,
 "nbformat_minor": 2
}
